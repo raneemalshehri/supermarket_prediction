{
 "cells": [
  {
   "cell_type": "code",
   "execution_count": 2,
   "metadata": {},
   "outputs": [
    {
     "name": "stdout",
     "output_type": "stream",
     "text": [
      "Collecting plotly\n",
      "  Downloading plotly-6.0.0-py3-none-any.whl.metadata (5.6 kB)\n",
      "Collecting narwhals>=1.15.1 (from plotly)\n",
      "  Downloading narwhals-1.28.0-py3-none-any.whl.metadata (10 kB)\n",
      "Requirement already satisfied: packaging in /Users/raneem/Library/Python/3.11/lib/python/site-packages (from plotly) (24.0)\n",
      "Downloading plotly-6.0.0-py3-none-any.whl (14.8 MB)\n",
      "\u001b[2K   \u001b[90m━━━━━━━━━━━━━━━━━━━━━━━━━━━━━━━━━━━━━━━━\u001b[0m \u001b[32m14.8/14.8 MB\u001b[0m \u001b[31m27.0 MB/s\u001b[0m eta \u001b[36m0:00:00\u001b[0ma \u001b[36m0:00:01\u001b[0m\n",
      "\u001b[?25hDownloading narwhals-1.28.0-py3-none-any.whl (308 kB)\n",
      "Installing collected packages: narwhals, plotly\n",
      "Successfully installed narwhals-1.28.0 plotly-6.0.0\n",
      "Note: you may need to restart the kernel to use updated packages.\n"
     ]
    }
   ],
   "source": [
    "%pip install plotly\n",
    "\n",
    "import pandas as pd\n",
    "import numpy as np\n",
    "import plotly.express as px\n",
    "import statsmodels.formula.api as smf\n",
    "from sklearn.linear_model import LinearRegression\n",
    "import matplotlib.pyplot as plt\n",
    "import seaborn as sns"
   ]
  },
  {
   "cell_type": "code",
   "execution_count": 4,
   "metadata": {},
   "outputs": [
    {
     "name": "stderr",
     "output_type": "stream",
     "text": [
      "/var/folders/ts/c0z20d1s1rq1pd4h0py597pw0000gn/T/ipykernel_11848/4060225151.py:1: DtypeWarning: Columns (7) have mixed types. Specify dtype option on import or set low_memory=False.\n",
      "  supermarket = pd.read_csv('/Users/raneem/Downloads/supermarket_pred/sales.csv')\n"
     ]
    }
   ],
   "source": [
    "supermarket = pd.read_csv('/Users/raneem/Downloads/supermarket_pred/sales.csv')"
   ]
  },
  {
   "cell_type": "markdown",
   "metadata": {},
   "source": [
    " ## 1 - Explore The Dataset"
   ]
  },
  {
   "cell_type": "code",
   "execution_count": 7,
   "metadata": {},
   "outputs": [
    {
     "data": {
      "text/html": [
       "<div>\n",
       "<style scoped>\n",
       "    .dataframe tbody tr th:only-of-type {\n",
       "        vertical-align: middle;\n",
       "    }\n",
       "\n",
       "    .dataframe tbody tr th {\n",
       "        vertical-align: top;\n",
       "    }\n",
       "\n",
       "    .dataframe thead th {\n",
       "        text-align: right;\n",
       "    }\n",
       "</style>\n",
       "<table border=\"1\" class=\"dataframe\">\n",
       "  <thead>\n",
       "    <tr style=\"text-align: right;\">\n",
       "      <th></th>\n",
       "      <th>Unnamed: 0</th>\n",
       "      <th>store_ID</th>\n",
       "      <th>day_of_week</th>\n",
       "      <th>date</th>\n",
       "      <th>nb_customers_on_day</th>\n",
       "      <th>open</th>\n",
       "      <th>promotion</th>\n",
       "      <th>state_holiday</th>\n",
       "      <th>school_holiday</th>\n",
       "      <th>sales</th>\n",
       "    </tr>\n",
       "  </thead>\n",
       "  <tbody>\n",
       "    <tr>\n",
       "      <th>0</th>\n",
       "      <td>260670</td>\n",
       "      <td>166</td>\n",
       "      <td>2</td>\n",
       "      <td>2013-01-01</td>\n",
       "      <td>0</td>\n",
       "      <td>0</td>\n",
       "      <td>0</td>\n",
       "      <td>a</td>\n",
       "      <td>1</td>\n",
       "      <td>0</td>\n",
       "    </tr>\n",
       "    <tr>\n",
       "      <th>1</th>\n",
       "      <td>366950</td>\n",
       "      <td>278</td>\n",
       "      <td>2</td>\n",
       "      <td>2013-01-01</td>\n",
       "      <td>0</td>\n",
       "      <td>0</td>\n",
       "      <td>0</td>\n",
       "      <td>a</td>\n",
       "      <td>1</td>\n",
       "      <td>0</td>\n",
       "    </tr>\n",
       "    <tr>\n",
       "      <th>2</th>\n",
       "      <td>179596</td>\n",
       "      <td>519</td>\n",
       "      <td>2</td>\n",
       "      <td>2013-01-01</td>\n",
       "      <td>0</td>\n",
       "      <td>0</td>\n",
       "      <td>0</td>\n",
       "      <td>a</td>\n",
       "      <td>1</td>\n",
       "      <td>0</td>\n",
       "    </tr>\n",
       "    <tr>\n",
       "      <th>3</th>\n",
       "      <td>216955</td>\n",
       "      <td>234</td>\n",
       "      <td>2</td>\n",
       "      <td>2013-01-01</td>\n",
       "      <td>0</td>\n",
       "      <td>0</td>\n",
       "      <td>0</td>\n",
       "      <td>a</td>\n",
       "      <td>1</td>\n",
       "      <td>0</td>\n",
       "    </tr>\n",
       "    <tr>\n",
       "      <th>4</th>\n",
       "      <td>201196</td>\n",
       "      <td>270</td>\n",
       "      <td>2</td>\n",
       "      <td>2013-01-01</td>\n",
       "      <td>0</td>\n",
       "      <td>0</td>\n",
       "      <td>0</td>\n",
       "      <td>a</td>\n",
       "      <td>1</td>\n",
       "      <td>0</td>\n",
       "    </tr>\n",
       "  </tbody>\n",
       "</table>\n",
       "</div>"
      ],
      "text/plain": [
       "   Unnamed: 0  store_ID  day_of_week        date  nb_customers_on_day  open  \\\n",
       "0      260670       166            2  2013-01-01                    0     0   \n",
       "1      366950       278            2  2013-01-01                    0     0   \n",
       "2      179596       519            2  2013-01-01                    0     0   \n",
       "3      216955       234            2  2013-01-01                    0     0   \n",
       "4      201196       270            2  2013-01-01                    0     0   \n",
       "\n",
       "   promotion state_holiday  school_holiday  sales  \n",
       "0          0             a               1      0  \n",
       "1          0             a               1      0  \n",
       "2          0             a               1      0  \n",
       "3          0             a               1      0  \n",
       "4          0             a               1      0  "
      ]
     },
     "execution_count": 7,
     "metadata": {},
     "output_type": "execute_result"
    }
   ],
   "source": [
    "supermarket.head()"
   ]
  },
  {
   "cell_type": "code",
   "execution_count": 9,
   "metadata": {},
   "outputs": [
    {
     "data": {
      "text/plain": [
       "Unnamed: 0              int64\n",
       "store_ID                int64\n",
       "day_of_week             int64\n",
       "date                   object\n",
       "nb_customers_on_day     int64\n",
       "open                    int64\n",
       "promotion               int64\n",
       "state_holiday          object\n",
       "school_holiday          int64\n",
       "sales                   int64\n",
       "dtype: object"
      ]
     },
     "execution_count": 9,
     "metadata": {},
     "output_type": "execute_result"
    }
   ],
   "source": [
    "supermarket.dtypes"
   ]
  },
  {
   "cell_type": "code",
   "execution_count": 10,
   "metadata": {},
   "outputs": [
    {
     "name": "stdout",
     "output_type": "stream",
     "text": [
      "<class 'pandas.core.frame.DataFrame'>\n",
      "RangeIndex: 592561 entries, 0 to 592560\n",
      "Data columns (total 10 columns):\n",
      " #   Column               Non-Null Count   Dtype \n",
      "---  ------               --------------   ----- \n",
      " 0   Unnamed: 0           592561 non-null  int64 \n",
      " 1   store_ID             592561 non-null  int64 \n",
      " 2   day_of_week          592561 non-null  int64 \n",
      " 3   date                 592561 non-null  object\n",
      " 4   nb_customers_on_day  592561 non-null  int64 \n",
      " 5   open                 592561 non-null  int64 \n",
      " 6   promotion            592561 non-null  int64 \n",
      " 7   state_holiday        592561 non-null  object\n",
      " 8   school_holiday       592561 non-null  int64 \n",
      " 9   sales                592561 non-null  int64 \n",
      "dtypes: int64(8), object(2)\n",
      "memory usage: 45.2+ MB\n"
     ]
    }
   ],
   "source": [
    "supermarket.info()"
   ]
  },
  {
   "cell_type": "code",
   "execution_count": 11,
   "metadata": {},
   "outputs": [
    {
     "data": {
      "text/plain": [
       "(592561, 10)"
      ]
     },
     "execution_count": 11,
     "metadata": {},
     "output_type": "execute_result"
    }
   ],
   "source": [
    "supermarket.shape"
   ]
  },
  {
   "cell_type": "code",
   "execution_count": 12,
   "metadata": {},
   "outputs": [
    {
     "data": {
      "text/html": [
       "<div>\n",
       "<style scoped>\n",
       "    .dataframe tbody tr th:only-of-type {\n",
       "        vertical-align: middle;\n",
       "    }\n",
       "\n",
       "    .dataframe tbody tr th {\n",
       "        vertical-align: top;\n",
       "    }\n",
       "\n",
       "    .dataframe thead th {\n",
       "        text-align: right;\n",
       "    }\n",
       "</style>\n",
       "<table border=\"1\" class=\"dataframe\">\n",
       "  <thead>\n",
       "    <tr style=\"text-align: right;\">\n",
       "      <th></th>\n",
       "      <th>Unnamed: 0</th>\n",
       "      <th>store_ID</th>\n",
       "      <th>day_of_week</th>\n",
       "      <th>nb_customers_on_day</th>\n",
       "      <th>open</th>\n",
       "      <th>promotion</th>\n",
       "      <th>school_holiday</th>\n",
       "      <th>sales</th>\n",
       "    </tr>\n",
       "  </thead>\n",
       "  <tbody>\n",
       "    <tr>\n",
       "      <th>count</th>\n",
       "      <td>592561.000000</td>\n",
       "      <td>592561.000000</td>\n",
       "      <td>592561.000000</td>\n",
       "      <td>592561.000000</td>\n",
       "      <td>592561.000000</td>\n",
       "      <td>592561.000000</td>\n",
       "      <td>592561.000000</td>\n",
       "      <td>592561.000000</td>\n",
       "    </tr>\n",
       "    <tr>\n",
       "      <th>mean</th>\n",
       "      <td>356039.480762</td>\n",
       "      <td>558.463546</td>\n",
       "      <td>4.002315</td>\n",
       "      <td>634.848002</td>\n",
       "      <td>0.831509</td>\n",
       "      <td>0.379419</td>\n",
       "      <td>0.181418</td>\n",
       "      <td>5744.577431</td>\n",
       "    </tr>\n",
       "    <tr>\n",
       "      <th>std</th>\n",
       "      <td>205596.545847</td>\n",
       "      <td>321.957991</td>\n",
       "      <td>1.995855</td>\n",
       "      <td>465.330476</td>\n",
       "      <td>0.374302</td>\n",
       "      <td>0.485243</td>\n",
       "      <td>0.385364</td>\n",
       "      <td>3832.896126</td>\n",
       "    </tr>\n",
       "    <tr>\n",
       "      <th>min</th>\n",
       "      <td>0.000000</td>\n",
       "      <td>1.000000</td>\n",
       "      <td>1.000000</td>\n",
       "      <td>0.000000</td>\n",
       "      <td>0.000000</td>\n",
       "      <td>0.000000</td>\n",
       "      <td>0.000000</td>\n",
       "      <td>0.000000</td>\n",
       "    </tr>\n",
       "    <tr>\n",
       "      <th>25%</th>\n",
       "      <td>177871.000000</td>\n",
       "      <td>280.000000</td>\n",
       "      <td>2.000000</td>\n",
       "      <td>404.000000</td>\n",
       "      <td>1.000000</td>\n",
       "      <td>0.000000</td>\n",
       "      <td>0.000000</td>\n",
       "      <td>3703.000000</td>\n",
       "    </tr>\n",
       "    <tr>\n",
       "      <th>50%</th>\n",
       "      <td>356159.000000</td>\n",
       "      <td>558.000000</td>\n",
       "      <td>4.000000</td>\n",
       "      <td>609.000000</td>\n",
       "      <td>1.000000</td>\n",
       "      <td>0.000000</td>\n",
       "      <td>0.000000</td>\n",
       "      <td>5702.000000</td>\n",
       "    </tr>\n",
       "    <tr>\n",
       "      <th>75%</th>\n",
       "      <td>534138.000000</td>\n",
       "      <td>837.000000</td>\n",
       "      <td>6.000000</td>\n",
       "      <td>839.000000</td>\n",
       "      <td>1.000000</td>\n",
       "      <td>1.000000</td>\n",
       "      <td>0.000000</td>\n",
       "      <td>7808.000000</td>\n",
       "    </tr>\n",
       "    <tr>\n",
       "      <th>max</th>\n",
       "      <td>712044.000000</td>\n",
       "      <td>1115.000000</td>\n",
       "      <td>7.000000</td>\n",
       "      <td>5494.000000</td>\n",
       "      <td>1.000000</td>\n",
       "      <td>1.000000</td>\n",
       "      <td>1.000000</td>\n",
       "      <td>38037.000000</td>\n",
       "    </tr>\n",
       "  </tbody>\n",
       "</table>\n",
       "</div>"
      ],
      "text/plain": [
       "          Unnamed: 0       store_ID    day_of_week  nb_customers_on_day  \\\n",
       "count  592561.000000  592561.000000  592561.000000        592561.000000   \n",
       "mean   356039.480762     558.463546       4.002315           634.848002   \n",
       "std    205596.545847     321.957991       1.995855           465.330476   \n",
       "min         0.000000       1.000000       1.000000             0.000000   \n",
       "25%    177871.000000     280.000000       2.000000           404.000000   \n",
       "50%    356159.000000     558.000000       4.000000           609.000000   \n",
       "75%    534138.000000     837.000000       6.000000           839.000000   \n",
       "max    712044.000000    1115.000000       7.000000          5494.000000   \n",
       "\n",
       "                open      promotion  school_holiday          sales  \n",
       "count  592561.000000  592561.000000   592561.000000  592561.000000  \n",
       "mean        0.831509       0.379419        0.181418    5744.577431  \n",
       "std         0.374302       0.485243        0.385364    3832.896126  \n",
       "min         0.000000       0.000000        0.000000       0.000000  \n",
       "25%         1.000000       0.000000        0.000000    3703.000000  \n",
       "50%         1.000000       0.000000        0.000000    5702.000000  \n",
       "75%         1.000000       1.000000        0.000000    7808.000000  \n",
       "max         1.000000       1.000000        1.000000   38037.000000  "
      ]
     },
     "execution_count": 12,
     "metadata": {},
     "output_type": "execute_result"
    }
   ],
   "source": [
    "supermarket.describe()"
   ]
  },
  {
   "cell_type": "code",
   "execution_count": 13,
   "metadata": {},
   "outputs": [
    {
     "name": "stdout",
     "output_type": "stream",
     "text": [
      "Numerical: ['Unnamed: 0', 'store_ID', 'day_of_week', 'nb_customers_on_day', 'open', 'promotion', 'school_holiday', 'sales']\n",
      "\n",
      "\n",
      "Categorical: ['date', 'state_holiday']\n"
     ]
    }
   ],
   "source": [
    "numerical = supermarket._get_numeric_data()\n",
    "\n",
    "categorical = [i for i in supermarket if i not in numerical]\n",
    "\n",
    "#for num in numerical:\n",
    "print(\"Numerical:\", list(supermarket._get_numeric_data().keys()))\n",
    "print(\"\\n\")\n",
    "#for col in categorical:\n",
    "print(\"Categorical:\", categorical)"
   ]
  },
  {
   "cell_type": "code",
   "execution_count": 15,
   "metadata": {},
   "outputs": [],
   "source": [
    "# Transform 'state_holiday' column from categorical to ordinal values\n",
    "state_holiday_mapping = {'0': 0, 'a': 1, 'b': 2, 'c': 3}\n",
    "supermarket['state_holiday'] = supermarket['state_holiday'].map(state_holiday_mapping)"
   ]
  },
  {
   "cell_type": "code",
   "execution_count": 16,
   "metadata": {},
   "outputs": [
    {
     "name": "stdout",
     "output_type": "stream",
     "text": [
      "Unnamed: 0                      int64\n",
      "store_ID                        int64\n",
      "day_of_week                     int64\n",
      "date                   datetime64[ns]\n",
      "nb_customers_on_day             int64\n",
      "open                            int64\n",
      "promotion                       int64\n",
      "state_holiday                 float64\n",
      "school_holiday                  int64\n",
      "sales                           int64\n",
      "dtype: object\n"
     ]
    }
   ],
   "source": [
    "# Convert 'date' column to datetime type\n",
    "supermarket['date'] = pd.to_datetime(supermarket['date'])\n",
    "\n",
    "# Verify the conversion\n",
    "print(supermarket.dtypes)"
   ]
  }
 ],
 "metadata": {
  "kernelspec": {
   "display_name": "Python 3",
   "language": "python",
   "name": "python3"
  },
  "language_info": {
   "codemirror_mode": {
    "name": "ipython",
    "version": 3
   },
   "file_extension": ".py",
   "mimetype": "text/x-python",
   "name": "python",
   "nbconvert_exporter": "python",
   "pygments_lexer": "ipython3",
   "version": "3.11.5"
  }
 },
 "nbformat": 4,
 "nbformat_minor": 2
}
